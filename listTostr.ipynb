{
 "cells": [
  {
   "cell_type": "code",
   "execution_count": 7,
   "id": "33007d29-7e1d-4596-b8c5-c04bdb9fce4e",
   "metadata": {},
   "outputs": [
    {
     "name": "stdout",
     "output_type": "stream",
     "text": [
      "what is your fav lang python, java, c\n"
     ]
    }
   ],
   "source": [
    "lang=[\"python\",\"java\",\"c\"]\n",
    "print(\"what is your fav lang\",\", \".join(lang))"
   ]
  },
  {
   "cell_type": "code",
   "execution_count": null,
   "id": "4f063b1c-17fd-4e85-a3c3-7dbbbcd3a3bb",
   "metadata": {},
   "outputs": [],
   "source": []
  },
  {
   "cell_type": "code",
   "execution_count": null,
   "id": "e44da7cc-5531-4df7-b5d8-f3ef0cfe4a7d",
   "metadata": {},
   "outputs": [],
   "source": []
  }
 ],
 "metadata": {
  "kernelspec": {
   "display_name": "Python 3",
   "language": "python",
   "name": "python3"
  },
  "language_info": {
   "codemirror_mode": {
    "name": "ipython",
    "version": 3
   },
   "file_extension": ".py",
   "mimetype": "text/x-python",
   "name": "python",
   "nbconvert_exporter": "python",
   "pygments_lexer": "ipython3",
   "version": "3.8.8"
  }
 },
 "nbformat": 4,
 "nbformat_minor": 5
}

{
 "cells": [
  {
   "cell_type": "code",
   "execution_count": 13,
   "id": "8d98cced-d628-4bd3-9f4c-d2d50c821ac4",
   "metadata": {},
   "outputs": [
    {
     "data": {
      "text/plain": [
       "[33, 2, 2, 44, 32, 56, 77, 53, 321]"
      ]
     },
     "execution_count": 13,
     "metadata": {},
     "output_type": "execute_result"
    }
   ],
   "source": [
    "l=[2,2,44,32,56,77,53,321]\n",
    "# l.sort()\n",
    "# l.sort(reverse=True)\n",
    "# l.reverse()\n",
    "# l.count(2)\n",
    "# a=l.copy()\n",
    "# l.insert(0,33)\n",
    "\n",
    "l\n"
   ]
  },
  {
   "cell_type": "code",
   "execution_count": 14,
   "id": "c408d0b7-57d7-48e6-a1dd-c7d06fd7c6e7",
   "metadata": {},
   "outputs": [
    {
     "data": {
      "text/plain": [
       "[33, 2, 2, 44, 32, 56, 77, 53, 321, 21, 22, 23]"
      ]
     },
     "execution_count": 14,
     "metadata": {},
     "output_type": "execute_result"
    }
   ],
   "source": [
    "m=[21,22,23]\n",
    "l.extend(m)\n",
    "l"
   ]
  },
  {
   "cell_type": "code",
   "execution_count": 15,
   "id": "78dd3eae-11c3-4537-a3df-10ecc1d8c65f",
   "metadata": {},
   "outputs": [
    {
     "data": {
      "text/plain": [
       "[2, 2, 44, 32, 56, 77, 53, 321, 21, 22, 23]"
      ]
     },
     "execution_count": 15,
     "metadata": {},
     "output_type": "execute_result"
    }
   ],
   "source": [
    "l=[2,2,44,32,56,77,53,321]\n",
    "m=[21,22,23]\n",
    "k=l+m\n",
    "k"
   ]
  },
  {
   "cell_type": "code",
   "execution_count": null,
   "id": "7240e891-0086-45d0-98cf-10e564648838",
   "metadata": {},
   "outputs": [],
   "source": []
  }
 ],
 "metadata": {
  "kernelspec": {
   "display_name": "Python 3",
   "language": "python",
   "name": "python3"
  },
  "language_info": {
   "codemirror_mode": {
    "name": "ipython",
    "version": 3
   },
   "file_extension": ".py",
   "mimetype": "text/x-python",
   "name": "python",
   "nbconvert_exporter": "python",
   "pygments_lexer": "ipython3",
   "version": "3.8.8"
  }
 },
 "nbformat": 4,
 "nbformat_minor": 5
}

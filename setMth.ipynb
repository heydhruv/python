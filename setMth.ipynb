{
 "cells": [
  {
   "cell_type": "code",
   "execution_count": 3,
   "id": "fd0c99f6-7b38-4c95-8a3c-2894935b2834",
   "metadata": {},
   "outputs": [
    {
     "name": "stdout",
     "output_type": "stream",
     "text": [
      "<class 'dict'>\n",
      "<class 'set'>\n"
     ]
    }
   ],
   "source": [
    "s={}\n",
    "print(type(s))\n",
    "ss=set()\n",
    "print(type(ss))"
   ]
  },
  {
   "cell_type": "code",
   "execution_count": 30,
   "id": "98753514-378a-4506-be27-9f87ce2b17fe",
   "metadata": {},
   "outputs": [
    {
     "name": "stdout",
     "output_type": "stream",
     "text": [
      "australia\n"
     ]
    }
   ],
   "source": [
    "s={\"india\",\"usa\",\"japan\",\"australia\"}\n",
    "ss={\"usa\",\"uk\",\"australia\"}\n",
    "# sss=s.difference(ss)\n",
    "# sss=s.union(ss)\n",
    "# sss=s.intersection(ss)\n",
    "# s.add(\"france\")\n",
    "# sss=s.symmetric_difference(ss)\n",
    "# s.update(ss)\n",
    "# s.discard(\"australia\")\n",
    "# print(s.isdisjoint(ss))\n",
    "# print(s.issuperset(ss))\n",
    "# print(s.issubset(ss))\n",
    "# print(s.pop())\n"
   ]
  },
  {
   "cell_type": "code",
   "execution_count": 32,
   "id": "f03f99a7-40da-4a5b-80a8-ceb0ed00957f",
   "metadata": {},
   "outputs": [
    {
     "ename": "NameError",
     "evalue": "name 'python_version' is not defined",
     "output_type": "error",
     "traceback": [
      "\u001b[0;31m---------------------------------------------------------------------------\u001b[0m",
      "\u001b[0;31mNameError\u001b[0m                                 Traceback (most recent call last)",
      "\u001b[0;32m<ipython-input-32-ea23ff7d01a6>\u001b[0m in \u001b[0;36m<module>\u001b[0;34m\u001b[0m\n\u001b[0;32m----> 1\u001b[0;31m \u001b[0mpython_version\u001b[0m\u001b[0;34m(\u001b[0m\u001b[0;34m)\u001b[0m\u001b[0;34m\u001b[0m\u001b[0;34m\u001b[0m\u001b[0m\n\u001b[0m",
      "\u001b[0;31mNameError\u001b[0m: name 'python_version' is not defined"
     ]
    }
   ],
   "source": [
    "python_version()"
   ]
  },
  {
   "cell_type": "code",
   "execution_count": null,
   "id": "e62594e1-4e88-44f5-9b12-7accebb3f061",
   "metadata": {},
   "outputs": [],
   "source": []
  }
 ],
 "metadata": {
  "kernelspec": {
   "display_name": "Python 3",
   "language": "python",
   "name": "python3"
  },
  "language_info": {
   "codemirror_mode": {
    "name": "ipython",
    "version": 3
   },
   "file_extension": ".py",
   "mimetype": "text/x-python",
   "name": "python",
   "nbconvert_exporter": "python",
   "pygments_lexer": "ipython3",
   "version": "3.8.8"
  }
 },
 "nbformat": 4,
 "nbformat_minor": 5
}

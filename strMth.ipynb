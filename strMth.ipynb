{
 "cells": [
  {
   "cell_type": "code",
   "execution_count": 4,
   "id": "e7d74d2f-5a27-4887-b288-1ef868e90f5d",
   "metadata": {},
   "outputs": [
    {
     "data": {
      "text/plain": [
       "['it', 'does', 'not', 'work', 'like', 'that']"
      ]
     },
     "execution_count": 4,
     "metadata": {},
     "output_type": "execute_result"
    }
   ],
   "source": [
    "s=\"it does not work like that\"\n",
    "a=s.split()\n",
    "\n",
    "    "
   ]
  },
  {
   "cell_type": "code",
   "execution_count": 7,
   "id": "bcd6e155-05fc-4851-a0e1-8065514d8ff0",
   "metadata": {},
   "outputs": [
    {
     "data": {
      "text/plain": [
       "'it does not work like that'"
      ]
     },
     "execution_count": 7,
     "metadata": {},
     "output_type": "execute_result"
    }
   ],
   "source": [
    "s=\"it does not work like that####\"\n",
    "a=s.rstrip(\"# \")\n",
    "a"
   ]
  },
  {
   "cell_type": "code",
   "execution_count": 8,
   "id": "05c4e753-a39a-4bad-afa6-b72be700a3e0",
   "metadata": {},
   "outputs": [
    {
     "name": "stdout",
     "output_type": "stream",
     "text": [
      "It does not work like that\n"
     ]
    }
   ],
   "source": [
    "s=\"it does not work like that\"\n",
    "print(s.capitalize())"
   ]
  },
  {
   "cell_type": "code",
   "execution_count": 14,
   "id": "4edc40f6-0615-47a3-9cd6-70fe85d9fdce",
   "metadata": {},
   "outputs": [
    {
     "name": "stdout",
     "output_type": "stream",
     "text": [
      "            it does not work like that            \n",
      "26\n",
      "51\n"
     ]
    }
   ],
   "source": [
    "s=\"it does not work like that\"\n",
    "print(s.center(50))\n",
    "print(len(s))\n",
    "print(len(s.center(51)))"
   ]
  },
  {
   "cell_type": "code",
   "execution_count": 22,
   "id": "38e26ef3-ae54-4bd7-a4ba-6d7029af32ec",
   "metadata": {},
   "outputs": [
    {
     "name": "stdout",
     "output_type": "stream",
     "text": [
      "4\n"
     ]
    }
   ],
   "source": [
    "s=\"it does not work like that\"\n",
    "print(s.count(\"t\"))"
   ]
  },
  {
   "cell_type": "code",
   "execution_count": 24,
   "id": "33f65107-bc1b-48c7-8aed-d80260470a06",
   "metadata": {},
   "outputs": [
    {
     "name": "stdout",
     "output_type": "stream",
     "text": [
      "True\n",
      "True\n"
     ]
    }
   ],
   "source": [
    "s=\"it does not work like that\"\n",
    "print(s.endswith(\"that\"))\n",
    "print(s.endswith(\"does\",3,7))"
   ]
  },
  {
   "cell_type": "code",
   "execution_count": 27,
   "id": "77227b15-3553-4d57-8dcd-0950dbc14f56",
   "metadata": {},
   "outputs": [
    {
     "name": "stdout",
     "output_type": "stream",
     "text": [
      "3\n"
     ]
    }
   ],
   "source": [
    "s=\"it does not work like that\"\n",
    "print(s.find(\"d\"))"
   ]
  },
  {
   "cell_type": "code",
   "execution_count": 30,
   "id": "97ca5819-a1fe-4e31-bee8-aa06e3cca0ce",
   "metadata": {},
   "outputs": [
    {
     "name": "stdout",
     "output_type": "stream",
     "text": [
      "True\n"
     ]
    }
   ],
   "source": [
    "s=\"itdoesnotworklikethat\" #only a-z 0-9 not even spaces\n",
    "print(s.isalnum())"
   ]
  },
  {
   "cell_type": "code",
   "execution_count": 34,
   "id": "e8bd2faf-41dd-4920-a2ea-814c15859597",
   "metadata": {},
   "outputs": [
    {
     "name": "stdout",
     "output_type": "stream",
     "text": [
      "True\n"
     ]
    }
   ],
   "source": [
    "s=\"itdoesnotworklikethat\"\n",
    "print(s.isalpha())"
   ]
  },
  {
   "cell_type": "code",
   "execution_count": null,
   "id": "21d41b61-ca21-41e5-915c-3700bb72beea",
   "metadata": {},
   "outputs": [],
   "source": []
  }
 ],
 "metadata": {
  "kernelspec": {
   "display_name": "Python 3",
   "language": "python",
   "name": "python3"
  },
  "language_info": {
   "codemirror_mode": {
    "name": "ipython",
    "version": 3
   },
   "file_extension": ".py",
   "mimetype": "text/x-python",
   "name": "python",
   "nbconvert_exporter": "python",
   "pygments_lexer": "ipython3",
   "version": "3.8.8"
  }
 },
 "nbformat": 4,
 "nbformat_minor": 5
}

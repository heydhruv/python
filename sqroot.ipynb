{
 "cells": [
  {
   "cell_type": "code",
   "execution_count": 2,
   "id": "45dd2573-dffe-46af-a3d4-8b9ae449e2b6",
   "metadata": {},
   "outputs": [
    {
     "name": "stdin",
     "output_type": "stream",
     "text": [
      " 4.4\n"
     ]
    },
    {
     "name": "stdout",
     "output_type": "stream",
     "text": [
      "square root of 4.4is 2.0976176963403033\n"
     ]
    }
   ],
   "source": [
    "n=float(input())\n",
    "sqr=n**0.5\n",
    "print(f\"square root of {n}is {sqr}\")"
   ]
  },
  {
   "cell_type": "code",
   "execution_count": null,
   "id": "256749ac-1278-461f-abc5-49dd6ab0c739",
   "metadata": {},
   "outputs": [],
   "source": []
  }
 ],
 "metadata": {
  "kernelspec": {
   "display_name": "Python 3",
   "language": "python",
   "name": "python3"
  },
  "language_info": {
   "codemirror_mode": {
    "name": "ipython",
    "version": 3
   },
   "file_extension": ".py",
   "mimetype": "text/x-python",
   "name": "python",
   "nbconvert_exporter": "python",
   "pygments_lexer": "ipython3",
   "version": "3.8.8"
  }
 },
 "nbformat": 4,
 "nbformat_minor": 5
}

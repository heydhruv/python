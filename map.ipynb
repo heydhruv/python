{
 "cells": [
  {
   "cell_type": "code",
   "execution_count": 2,
   "id": "b153e3c7-f7da-4e6f-bda7-4550c71f5439",
   "metadata": {},
   "outputs": [
    {
     "name": "stdout",
     "output_type": "stream",
     "text": [
      "[1, 4, 9, 16, 25]\n"
     ]
    }
   ],
   "source": [
    "# map is used to iterate iterable through a function but it returns map obj so we need to typecast it \n",
    "def cube(x):\n",
    "    return x*x\n",
    "l=[1,2,3,4,5]\n",
    "ll=list(map(cube,l))\n",
    "print(ll)"
   ]
  },
  {
   "cell_type": "code",
   "execution_count": 3,
   "id": "ba494f17-0e1d-443d-b4e6-26ba90631cab",
   "metadata": {},
   "outputs": [
    {
     "name": "stdout",
     "output_type": "stream",
     "text": [
      "[1, 8, 27, 64, 125, 216]\n"
     ]
    }
   ],
   "source": [
    "l=[1,2,3,4,5,6]\n",
    "ll=list(map(lambda x:x**3,l))\n",
    "print(ll)"
   ]
  },
  {
   "cell_type": "code",
   "execution_count": null,
   "id": "c72a03d0-2724-4e74-b610-9ae86fc0b584",
   "metadata": {},
   "outputs": [],
   "source": []
  }
 ],
 "metadata": {
  "kernelspec": {
   "display_name": "Python 3",
   "language": "python",
   "name": "python3"
  },
  "language_info": {
   "codemirror_mode": {
    "name": "ipython",
    "version": 3
   },
   "file_extension": ".py",
   "mimetype": "text/x-python",
   "name": "python",
   "nbconvert_exporter": "python",
   "pygments_lexer": "ipython3",
   "version": "3.8.8"
  }
 },
 "nbformat": 4,
 "nbformat_minor": 5
}

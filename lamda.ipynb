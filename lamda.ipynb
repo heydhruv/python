{
 "cells": [
  {
   "cell_type": "code",
   "execution_count": 4,
   "id": "02084142-c446-47d3-8ea0-8ef944f1ec03",
   "metadata": {},
   "outputs": [
    {
     "name": "stdout",
     "output_type": "stream",
     "text": [
      "27\n"
     ]
    }
   ],
   "source": [
    "cube= lambda x: x**3\n",
    "print(cube(3))        "
   ]
  },
  {
   "cell_type": "code",
   "execution_count": 5,
   "id": "d2151bb4-79fa-40f9-8982-f80f18c2689c",
   "metadata": {},
   "outputs": [
    {
     "name": "stdout",
     "output_type": "stream",
     "text": [
      "3.0\n"
     ]
    }
   ],
   "source": [
    "avg= lambda x,y:(x+y)/2\n",
    "print(avg(2,4))"
   ]
  },
  {
   "cell_type": "code",
   "execution_count": 7,
   "id": "b0cd4f83-5166-4890-a098-d8bb4bb6fa6c",
   "metadata": {},
   "outputs": [
    {
     "name": "stdout",
     "output_type": "stream",
     "text": [
      "4\n"
     ]
    }
   ],
   "source": [
    "dub=lambda x:x+x\n",
    "print(dub(2))"
   ]
  },
  {
   "cell_type": "code",
   "execution_count": null,
   "id": "9281acdf-1600-4abf-a12e-913b09e8fd75",
   "metadata": {},
   "outputs": [],
   "source": []
  }
 ],
 "metadata": {
  "kernelspec": {
   "display_name": "Python 3",
   "language": "python",
   "name": "python3"
  },
  "language_info": {
   "codemirror_mode": {
    "name": "ipython",
    "version": 3
   },
   "file_extension": ".py",
   "mimetype": "text/x-python",
   "name": "python",
   "nbconvert_exporter": "python",
   "pygments_lexer": "ipython3",
   "version": "3.8.8"
  }
 },
 "nbformat": 4,
 "nbformat_minor": 5
}

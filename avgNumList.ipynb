{
 "cells": [
  {
   "cell_type": "code",
   "execution_count": 2,
   "id": "5bced6eb-45fd-4e99-b4d4-4d626c854802",
   "metadata": {},
   "outputs": [
    {
     "name": "stdin",
     "output_type": "stream",
     "text": [
      "enter number of elements to be inserted 3\n",
      "enter the elem 1\n",
      "enter the elem 2\n",
      "enter the elem 3\n"
     ]
    },
    {
     "name": "stdout",
     "output_type": "stream",
     "text": [
      "avg of list is 2.0\n"
     ]
    }
   ],
   "source": [
    "n=int(input(\"enter number of elements to be inserted\"))\n",
    "a=[]\n",
    "for i in range (0,n):\n",
    "    elem=int(input(\"enter the elem\"))\n",
    "    a.append(elem)\n",
    "avg=sum(a)/n\n",
    "print(f\"avg of list is {avg}\")"
   ]
  },
  {
   "cell_type": "code",
   "execution_count": null,
   "id": "bf6dc5ff-927e-4d58-bd6e-2057c38bab2c",
   "metadata": {},
   "outputs": [],
   "source": []
  }
 ],
 "metadata": {
  "kernelspec": {
   "display_name": "Python 3",
   "language": "python",
   "name": "python3"
  },
  "language_info": {
   "codemirror_mode": {
    "name": "ipython",
    "version": 3
   },
   "file_extension": ".py",
   "mimetype": "text/x-python",
   "name": "python",
   "nbconvert_exporter": "python",
   "pygments_lexer": "ipython3",
   "version": "3.8.8"
  }
 },
 "nbformat": 4,
 "nbformat_minor": 5
}

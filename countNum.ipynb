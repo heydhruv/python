{
 "cells": [
  {
   "cell_type": "code",
   "execution_count": 3,
   "id": "49409b60-95ed-4e4b-9047-50852ac0cde3",
   "metadata": {},
   "outputs": [
    {
     "name": "stdin",
     "output_type": "stream",
     "text": [
      "enter the number 1\n"
     ]
    },
    {
     "name": "stdout",
     "output_type": "stream",
     "text": [
      "number of digits in munber is 1\n"
     ]
    }
   ],
   "source": [
    "n=int(input(\"enter the number\"))\n",
    "count=0\n",
    "while(n>0):\n",
    "    n//=10\n",
    "    count=count+1\n",
    "print(f\"number of digits in munber is {count}\")    \n",
    "    \n",
    "    "
   ]
  },
  {
   "cell_type": "code",
   "execution_count": null,
   "id": "5164ca18-1ada-4689-92d8-23a0f441eb2b",
   "metadata": {},
   "outputs": [],
   "source": []
  }
 ],
 "metadata": {
  "kernelspec": {
   "display_name": "Python 3",
   "language": "python",
   "name": "python3"
  },
  "language_info": {
   "codemirror_mode": {
    "name": "ipython",
    "version": 3
   },
   "file_extension": ".py",
   "mimetype": "text/x-python",
   "name": "python",
   "nbconvert_exporter": "python",
   "pygments_lexer": "ipython3",
   "version": "3.8.8"
  }
 },
 "nbformat": 4,
 "nbformat_minor": 5
}

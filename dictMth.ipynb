{
 "cells": [
  {
   "cell_type": "code",
   "execution_count": 9,
   "id": "888fe9c7-707a-4dcb-9798-79e9d54126fd",
   "metadata": {},
   "outputs": [
    {
     "data": {
      "text/plain": [
       "{1: 'dhruv', 2: 'jay', 3: 'kush'}"
      ]
     },
     "execution_count": 9,
     "metadata": {},
     "output_type": "execute_result"
    }
   ],
   "source": [
    "dict={1:\"dhruv\",2:\"jay\",3:\"kush\"}\n",
    "# x=dict.values()\n",
    "# x=dict.copy()\n",
    "x"
   ]
  },
  {
   "cell_type": "code",
   "execution_count": 12,
   "id": "fd469927-331b-4ba0-b5f5-7985ae3cafe7",
   "metadata": {},
   "outputs": [
    {
     "name": "stdout",
     "output_type": "stream",
     "text": [
      "{'1': ('a', 'b', 'c'), '2': ('a', 'b', 'c'), '3': ('a', 'b', 'c')}\n"
     ]
    }
   ],
   "source": [
    "k=(\"1\",\"2\",\"3\")\n",
    "v=(\"a\"),(\"b\"),(\"c\")\n",
    "dict=dict.fromkeys(k,v)\n",
    "print(dict)"
   ]
  },
  {
   "cell_type": "code",
   "execution_count": 15,
   "id": "1c6a6133-5115-4913-a789-1b485887d3c0",
   "metadata": {},
   "outputs": [
    {
     "data": {
      "text/plain": [
       "'jay'"
      ]
     },
     "execution_count": 15,
     "metadata": {},
     "output_type": "execute_result"
    }
   ],
   "source": [
    "dict={1:\"dhruv\",2:\"jay\",3:\"kush\"}\n",
    "x=dict.get(2)\n",
    "x"
   ]
  },
  {
   "cell_type": "code",
   "execution_count": 16,
   "id": "c62b74fd-24fc-4155-947a-01bd10df33de",
   "metadata": {},
   "outputs": [
    {
     "data": {
      "text/plain": [
       "dict_items([(1, 'dhruv'), (2, 'jay'), (3, 'kush')])"
      ]
     },
     "execution_count": 16,
     "metadata": {},
     "output_type": "execute_result"
    }
   ],
   "source": [
    "dict={1:\"dhruv\",2:\"jay\",3:\"kush\"}\n",
    "x=dict.items()\n",
    "x"
   ]
  },
  {
   "cell_type": "code",
   "execution_count": 19,
   "id": "acebaf6b-f9e2-4e0b-81d1-fd52bcf1c6e1",
   "metadata": {},
   "outputs": [
    {
     "data": {
      "text/plain": [
       "{1: 'dhruv', 3: 'kush'}"
      ]
     },
     "execution_count": 19,
     "metadata": {},
     "output_type": "execute_result"
    }
   ],
   "source": [
    "dict={1:\"dhruv\",2:\"jay\",3:\"kush\"}\n",
    "x=dict.pop(2)\n",
    "dict"
   ]
  },
  {
   "cell_type": "code",
   "execution_count": 22,
   "id": "afc9217c-4d76-402b-bccb-5369228a740f",
   "metadata": {},
   "outputs": [
    {
     "data": {
      "text/plain": [
       "{1: 'dhruv', 2: 'jay'}"
      ]
     },
     "execution_count": 22,
     "metadata": {},
     "output_type": "execute_result"
    }
   ],
   "source": [
    "dict={1:\"dhruv\",2:\"jay\",3:\"kush\"}\n",
    "x=dict.popitem()\n",
    "dict"
   ]
  },
  {
   "cell_type": "code",
   "execution_count": 25,
   "id": "a6e4f928-0a62-44dc-92f8-39fc46c3ff9d",
   "metadata": {},
   "outputs": [
    {
     "data": {
      "text/plain": [
       "{1: 'dhruv', 2: 'jay', 3: 'kush', 4: 'dhiraj'}"
      ]
     },
     "execution_count": 25,
     "metadata": {},
     "output_type": "execute_result"
    }
   ],
   "source": [
    "dict={1:\"dhruv\",2:\"jay\",3:\"kush\"}\n",
    "x=dict.setdefault(4,\"dhiraj\")\n",
    "x=dict.setdefault(1,\"dhruv\")\n",
    "dict"
   ]
  },
  {
   "cell_type": "code",
   "execution_count": 29,
   "id": "85672c3b-1044-4cbe-9fdf-1cc77cd75d00",
   "metadata": {},
   "outputs": [
    {
     "data": {
      "text/plain": [
       "{1: 'dhruv', 2: 'jay', 3: 'kush', 4: 'henil'}"
      ]
     },
     "execution_count": 29,
     "metadata": {},
     "output_type": "execute_result"
    }
   ],
   "source": [
    "dict={1:\"dhruv\",2:\"jay\",3:\"kush\"}\n",
    "x=dict.update({4:\"henil\"})\n",
    "dict"
   ]
  },
  {
   "cell_type": "code",
   "execution_count": 31,
   "id": "d6fa8c0d-7609-4ab7-ac93-9bed1a799c0b",
   "metadata": {},
   "outputs": [
    {
     "data": {
      "text/plain": [
       "dict_values(['dhruv', 'jay', 'kush'])"
      ]
     },
     "execution_count": 31,
     "metadata": {},
     "output_type": "execute_result"
    }
   ],
   "source": [
    "dict={1:\"dhruv\",2:\"jay\",3:\"kush\"}\n",
    "x=dict.values()\n",
    "x"
   ]
  },
  {
   "cell_type": "code",
   "execution_count": null,
   "id": "921a9cf6-0e49-415e-ba76-2c73af02c84e",
   "metadata": {},
   "outputs": [],
   "source": []
  }
 ],
 "metadata": {
  "kernelspec": {
   "display_name": "Python 3",
   "language": "python",
   "name": "python3"
  },
  "language_info": {
   "codemirror_mode": {
    "name": "ipython",
    "version": 3
   },
   "file_extension": ".py",
   "mimetype": "text/x-python",
   "name": "python",
   "nbconvert_exporter": "python",
   "pygments_lexer": "ipython3",
   "version": "3.8.8"
  }
 },
 "nbformat": 4,
 "nbformat_minor": 5
}

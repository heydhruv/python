{
 "cells": [
  {
   "cell_type": "code",
   "execution_count": 3,
   "id": "a2bbc8a9-b805-445b-a39d-cfb6fc8c25ac",
   "metadata": {},
   "outputs": [
    {
     "data": {
      "text/plain": [
       "[21, 23, 45, 21, 567, 8909]"
      ]
     },
     "execution_count": 3,
     "metadata": {},
     "output_type": "execute_result"
    }
   ],
   "source": [
    "# it will filter the iterable element by passing through a function but returns filter function which needs typecasting\n",
    "def filter_func(x):\n",
    "    return x>3\n",
    "l=[1,21,23,45,21,1,2,3,567,8909]\n",
    "ll=list(filter(filter_func,l))\n",
    "ll"
   ]
  },
  {
   "cell_type": "code",
   "execution_count": 4,
   "id": "86175f4c-7fbf-4faa-b983-11f4f8e98d7c",
   "metadata": {},
   "outputs": [
    {
     "name": "stdout",
     "output_type": "stream",
     "text": [
      "[33, 44, 55]\n"
     ]
    }
   ],
   "source": [
    "l=[1,2,3,33,44,55]\n",
    "ll=list(filter(lambda x:x>3,l))\n",
    "print(ll)"
   ]
  },
  {
   "cell_type": "code",
   "execution_count": null,
   "id": "25a6e333-2e14-40a7-a412-93e7f65d5ea3",
   "metadata": {},
   "outputs": [],
   "source": []
  }
 ],
 "metadata": {
  "kernelspec": {
   "display_name": "Python 3",
   "language": "python",
   "name": "python3"
  },
  "language_info": {
   "codemirror_mode": {
    "name": "ipython",
    "version": 3
   },
   "file_extension": ".py",
   "mimetype": "text/x-python",
   "name": "python",
   "nbconvert_exporter": "python",
   "pygments_lexer": "ipython3",
   "version": "3.8.8"
  }
 },
 "nbformat": 4,
 "nbformat_minor": 5
}

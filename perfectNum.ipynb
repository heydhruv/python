{
 "cells": [
  {
   "cell_type": "code",
   "execution_count": 2,
   "id": "d690c774-7eab-44e8-b6af-edd97f2a0b5f",
   "metadata": {},
   "outputs": [
    {
     "name": "stdin",
     "output_type": "stream",
     "text": [
      "enter the number 6\n"
     ]
    },
    {
     "name": "stdout",
     "output_type": "stream",
     "text": [
      "its a perfect number\n"
     ]
    }
   ],
   "source": [
    "n=int(input(\"enter the number\"))\n",
    "sum1=0\n",
    "for i in range(1,n):\n",
    "    if(n%i==0):\n",
    "        sum1=sum1+i\n",
    "if(sum1==n):\n",
    "    print(\"its a perfect number\")\n",
    "else:\n",
    "    print(\"its not perfect number\")"
   ]
  },
  {
   "cell_type": "code",
   "execution_count": null,
   "id": "4f57efec-c96d-49bb-a7b9-a1169306b2da",
   "metadata": {},
   "outputs": [],
   "source": []
  }
 ],
 "metadata": {
  "kernelspec": {
   "display_name": "Python 3",
   "language": "python",
   "name": "python3"
  },
  "language_info": {
   "codemirror_mode": {
    "name": "ipython",
    "version": 3
   },
   "file_extension": ".py",
   "mimetype": "text/x-python",
   "name": "python",
   "nbconvert_exporter": "python",
   "pygments_lexer": "ipython3",
   "version": "3.8.8"
  }
 },
 "nbformat": 4,
 "nbformat_minor": 5
}

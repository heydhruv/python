{
 "cells": [
  {
   "cell_type": "code",
   "execution_count": 3,
   "id": "8c567624-7dea-4fb7-af03-0c09639298d5",
   "metadata": {},
   "outputs": [],
   "source": [
    "t=(1,22,32,45,\"lol\",True)\n"
   ]
  },
  {
   "cell_type": "code",
   "execution_count": 10,
   "id": "44c0ce06-936c-4abd-82d7-4903718bebb6",
   "metadata": {},
   "outputs": [
    {
     "data": {
      "text/plain": [
       "tuple"
      ]
     },
     "execution_count": 10,
     "metadata": {},
     "output_type": "execute_result"
    }
   ],
   "source": [
    "t=(1,22,32,45,\"lol\",True)\n",
    "\n",
    "l=list(t)\n",
    "l.append(i+3j)\n",
    "t=tuple(l)\n",
    "type(t)"
   ]
  },
  {
   "cell_type": "code",
   "execution_count": 16,
   "id": "04204416-6c54-4fa1-8a8d-d8dd1cc8de99",
   "metadata": {},
   "outputs": [
    {
     "name": "stdout",
     "output_type": "stream",
     "text": [
      "2\n"
     ]
    }
   ],
   "source": [
    "t=(1,22,32,45,\"lol\",True)\n",
    "print(t.count(1))"
   ]
  },
  {
   "cell_type": "code",
   "execution_count": 18,
   "id": "b9ec195c-fb5c-4425-a901-8d16af3790e7",
   "metadata": {},
   "outputs": [
    {
     "data": {
      "text/plain": [
       "2"
      ]
     },
     "execution_count": 18,
     "metadata": {},
     "output_type": "execute_result"
    }
   ],
   "source": [
    "t=(1,22,32,45,\"lol\",True)\n",
    "r=t.index(32,1,4)\n",
    "r"
   ]
  },
  {
   "cell_type": "code",
   "execution_count": null,
   "id": "d0e9df67-5cdd-4e35-b59b-c4f8ae6a74b5",
   "metadata": {},
   "outputs": [],
   "source": []
  }
 ],
 "metadata": {
  "kernelspec": {
   "display_name": "Python 3",
   "language": "python",
   "name": "python3"
  },
  "language_info": {
   "codemirror_mode": {
    "name": "ipython",
    "version": 3
   },
   "file_extension": ".py",
   "mimetype": "text/x-python",
   "name": "python",
   "nbconvert_exporter": "python",
   "pygments_lexer": "ipython3",
   "version": "3.8.8"
  }
 },
 "nbformat": 4,
 "nbformat_minor": 5
}

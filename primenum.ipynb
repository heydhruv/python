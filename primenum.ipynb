{
 "cells": [
  {
   "cell_type": "code",
   "execution_count": 2,
   "id": "c1dfc412-5fc6-47da-874d-c55177e9d02d",
   "metadata": {},
   "outputs": [
    {
     "name": "stdin",
     "output_type": "stream",
     "text": [
      "enter a number to check prime 53\n"
     ]
    },
    {
     "name": "stdout",
     "output_type": "stream",
     "text": [
      "53is a prime number\n"
     ]
    }
   ],
   "source": [
    "def checkprime(num):\n",
    "    if num>1:\n",
    "        for i in range(2,int(num/2)+1):\n",
    "            if (num%i==0):\n",
    "                print(f\"{num}is not a prime number\")\n",
    "                break\n",
    "        else:\n",
    "            print(f\"{num}is a prime number\")\n",
    "    else:\n",
    "        print(f\"{num}is not a prime number\")\n",
    "num=int(input(\"enter a number to check prime\"))  \n",
    "checkprime(num)"
   ]
  },
  {
   "cell_type": "code",
   "execution_count": 10,
   "id": "797ff1b5-96de-49af-a108-f35c38336025",
   "metadata": {},
   "outputs": [
    {
     "name": "stdout",
     "output_type": "stream",
     "text": [
      "2  3  5  7  11  13  17  19  23  29  31  37  41  43  47  53  59  61  67  71  73  79  83  89  97  "
     ]
    }
   ],
   "source": [
    "for Number in range (1, 101):\n",
    "    count = 0\n",
    "    for i in range(2, (Number//2 + 1)):\n",
    "        if(Number % i == 0):\n",
    "            count = count + 1\n",
    "            break\n",
    "\n",
    "    if (count == 0 and Number != 1):\n",
    "        print(f\"{Number}\", end = '  ')"
   ]
  },
  {
   "cell_type": "code",
   "execution_count": null,
   "id": "b1a4c601-6dfb-4a01-8465-51977327a228",
   "metadata": {},
   "outputs": [],
   "source": []
  }
 ],
 "metadata": {
  "kernelspec": {
   "display_name": "Python 3",
   "language": "python",
   "name": "python3"
  },
  "language_info": {
   "codemirror_mode": {
    "name": "ipython",
    "version": 3
   },
   "file_extension": ".py",
   "mimetype": "text/x-python",
   "name": "python",
   "nbconvert_exporter": "python",
   "pygments_lexer": "ipython3",
   "version": "3.8.8"
  }
 },
 "nbformat": 4,
 "nbformat_minor": 5
}

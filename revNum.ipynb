{
 "cells": [
  {
   "cell_type": "code",
   "execution_count": 1,
   "id": "6f43cad2-1e69-47e9-9b4d-77c8edaad850",
   "metadata": {},
   "outputs": [
    {
     "name": "stdin",
     "output_type": "stream",
     "text": [
      "enter the number 12345\n"
     ]
    },
    {
     "name": "stdout",
     "output_type": "stream",
     "text": [
      "the reversed number is 54321\n"
     ]
    }
   ],
   "source": [
    "n=int(input(\"enter the number\"))\n",
    "rev=0\n",
    "while(n>0):\n",
    "    rem=n%10 #last digit extraction/remove\n",
    "    rev=rev*10+rem #adding that digit to rev\n",
    "    n //=10 #drop the last digit\n",
    "print(f\"the reversed number is {rev}\")    "
   ]
  },
  {
   "cell_type": "code",
   "execution_count": null,
   "id": "a2da9aa5-77f2-4cdb-b4a4-c1223145ac3b",
   "metadata": {},
   "outputs": [],
   "source": []
  }
 ],
 "metadata": {
  "kernelspec": {
   "display_name": "Python 3",
   "language": "python",
   "name": "python3"
  },
  "language_info": {
   "codemirror_mode": {
    "name": "ipython",
    "version": 3
   },
   "file_extension": ".py",
   "mimetype": "text/x-python",
   "name": "python",
   "nbconvert_exporter": "python",
   "pygments_lexer": "ipython3",
   "version": "3.8.8"
  }
 },
 "nbformat": 4,
 "nbformat_minor": 5
}

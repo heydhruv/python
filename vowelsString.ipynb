{
 "cells": [
  {
   "cell_type": "code",
   "execution_count": 2,
   "id": "951f5d2c-69b0-4526-acd8-5f5511b87a67",
   "metadata": {},
   "outputs": [
    {
     "name": "stdout",
     "output_type": "stream",
     "text": [
      "the vowels in str1 are{'e', 'o'}\n"
     ]
    }
   ],
   "source": [
    "def get_vowels(String):\n",
    "    return set([each for each in String if each in \"aeiou\"])\n",
    "str1=\"hello world\"\n",
    "print(f\"the vowels in str1 are{get_vowels(str1)}\")"
   ]
  },
  {
   "cell_type": "code",
   "execution_count": null,
   "id": "9524a71e-bc8f-4f58-86d9-f97e79b01cd4",
   "metadata": {},
   "outputs": [],
   "source": []
  }
 ],
 "metadata": {
  "kernelspec": {
   "display_name": "Python 3",
   "language": "python",
   "name": "python3"
  },
  "language_info": {
   "codemirror_mode": {
    "name": "ipython",
    "version": 3
   },
   "file_extension": ".py",
   "mimetype": "text/x-python",
   "name": "python",
   "nbconvert_exporter": "python",
   "pygments_lexer": "ipython3",
   "version": "3.8.8"
  }
 },
 "nbformat": 4,
 "nbformat_minor": 5
}
